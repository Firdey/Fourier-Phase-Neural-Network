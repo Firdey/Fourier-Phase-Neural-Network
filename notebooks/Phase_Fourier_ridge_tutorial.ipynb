{
 "cells": [
  {
   "cell_type": "markdown",
   "metadata": {},
   "source": [
    "# Phase Features with ridge regression"
   ]
  },
  {
   "cell_type": "markdown",
   "metadata": {},
   "source": [
    "In this tutorial, we will demonstrate the use of phase features in distribution regression (for the aerosol dataset), in comparison with the normal Gaussian Kernel (Fourier Features approach), and in a scenario of covariate shift. Parameters were chosen previosuly with cross validation.\n",
    "\n",
    "For this tutorial, we will make use of the kerpy package from https://github.com/oxmlcs/kerpy.\n",
    "\n",
    "This is tested on Python 2.7."
   ]
  },
  {
   "cell_type": "code",
   "execution_count": 1,
   "metadata": {
    "collapsed": false
   },
   "outputs": [],
   "source": [
    "from __future__ import print_function\n",
    "\n",
    "import numpy as np\n",
    "from kerpy.GaussianKernel import GaussianKernel\n",
    "from kerpy.LinearKernel import LinearKernel\n",
    "from kerpy.LinearBagKernel import LinearBagKernel\n",
    "\n",
    "from SymInvBagKernel import SymInvBagKernel\n",
    "import aux_fct"
   ]
  },
  {
   "cell_type": "markdown",
   "metadata": {},
   "source": [
    "Specify path for data and load the aerosol dataset (MISR1)."
   ]
  },
  {
   "cell_type": "code",
   "execution_count": 2,
   "metadata": {
    "collapsed": false
   },
   "outputs": [
    {
     "name": "stdout",
     "output_type": "stream",
     "text": [
      "Data shape: (800, 100, 16)\n"
     ]
    }
   ],
   "source": [
    "np.random.seed(23) # Set seed\n",
    "path = '/Users/Leon1/Desktop/Fourier-Phase-Neural-Network' #Change path \n",
    "misr_data_x, misr_data_y = aux_fct.load_data(path, random = True) \n",
    "print('Data shape:',misr_data_x.shape)\n",
    "# Train Set\n",
    "train_x = misr_data_x[:640]\n",
    "train_y = misr_data_y[:640]\n",
    "# Test Set\n",
    "test_x = misr_data_x[640:]\n",
    "test_y = misr_data_y[640:]\n",
    "variance = np.var(np.concatenate(misr_data_x), axis = 0) # For calculating signal to noise ratio\n",
    "data_dim = misr_data_x.shape[2]\n",
    "mean_predict_t = np.linalg.norm(test_y - np.mean(train_y))**2/len(test_y) #Mean prediction"
   ]
  },
  {
   "cell_type": "markdown",
   "metadata": {},
   "source": [
    "Calculate the bandwidth for phase features kernel (note that a larger scale will give you a more robust model, so when tuning, one should choose the larger scale within an acceptable range of error):"
   ]
  },
  {
   "cell_type": "code",
   "execution_count": 3,
   "metadata": {
    "collapsed": false
   },
   "outputs": [
    {
     "name": "stdout",
     "output_type": "stream",
     "text": [
      "Bandwidth: 370.057460792\n"
     ]
    }
   ],
   "source": [
    "bandwidth_scale = 1.25\n",
    "bandwidth = np.sqrt(aux_fct.median_sqdist(train_x) / 2) * bandwidth_scale # Calculate bandwidth\n",
    "print('Bandwidth:', bandwidth)"
   ]
  },
  {
   "cell_type": "markdown",
   "metadata": {
    "collapsed": true
   },
   "source": [
    "Setup the kernel using the kerpy kernel class structure:"
   ]
  },
  {
   "cell_type": "code",
   "execution_count": 4,
   "metadata": {
    "collapsed": false
   },
   "outputs": [],
   "source": [
    "data_phase_kernel = GaussianKernel(sigma=float(bandwidth))\n",
    "phase_kernel = SymInvBagKernel(data_phase_kernel) #Defines the phase features kernel, normalising the fourier features\n",
    "phase_kernel.rff_generate(mdata= 250, dim= data_dim) #Generate the frequencies from a normal distribution using the bandwidth."
   ]
  },
  {
   "cell_type": "markdown",
   "metadata": {},
   "source": [
    "Construct explicit feature maps for bags. "
   ]
  },
  {
   "cell_type": "code",
   "execution_count": 5,
   "metadata": {
    "collapsed": false
   },
   "outputs": [],
   "source": [
    "train_phase_means = phase_kernel.rff_expand(train_x)\n",
    "test_phase_means = phase_kernel.rff_expand(test_x)"
   ]
  },
  {
   "cell_type": "markdown",
   "metadata": {},
   "source": [
    "By constructing an explicit feature map for each bag as below, we can now use any normal regression methods on $\\mathbb{R}^{16}$, here we use ridge regression (with a linear kernel)."
   ]
  },
  {
   "cell_type": "code",
   "execution_count": 6,
   "metadata": {
    "collapsed": false
   },
   "outputs": [
    {
     "name": "stdout",
     "output_type": "stream",
     "text": [
      "Mean RMSE: 0.162785267464\n",
      "Phase RMSE: 0.0711980953622\n"
     ]
    }
   ],
   "source": [
    "lmbda = 0.01 #Ridge regularisation parameter\n",
    "ridge_kernel = LinearKernel()\n",
    "obj_phase, t_predict, t_phase_mse = ridge_kernel.ridge_regress(train_phase_means, train_y, lmbda, test_phase_means, test_y)\n",
    "print('Mean RMSE:', np.sqrt(mean_predict_t))\n",
    "print('Phase RMSE:', np.sqrt(t_phase_mse))"
   ]
  },
  {
   "cell_type": "markdown",
   "metadata": {},
   "source": [
    "Now we do the same for the Gaussian Kernel. Note the LinearKernel() of the data_kernel provides "
   ]
  },
  {
   "cell_type": "code",
   "execution_count": 7,
   "metadata": {
    "collapsed": false
   },
   "outputs": [
    {
     "name": "stdout",
     "output_type": "stream",
     "text": [
      "Mean RMSE: 0.162785267464\n",
      "Fourier (Gaussian) RMSE: 0.0716890964235\n"
     ]
    }
   ],
   "source": [
    "#This computes the mean embedding (average) of the explicit feature map of the data_kernel (Gaussian), \n",
    "#effectively providing us a gaussian bag kernel. \n",
    "data_gauss_kernel = GaussianKernel(sigma=float(bandwidth))\n",
    "gauss_kernel = LinearBagKernel(data_gauss_kernel)\n",
    "gauss_kernel.rff_generate(mdata= 250, dim= data_dim)\n",
    "train_gauss_means = gauss_kernel.rff_expand(train_x)\n",
    "test_gauss_means = gauss_kernel.rff_expand(test_x)\n",
    "\n",
    "lmbda = 0.001 #Ridge regularisation parameter\n",
    "ridge_kernel = LinearKernel()\n",
    "obj_gauss, t_predict, t_gauss_mse = ridge_kernel.ridge_regress(train_gauss_means, train_y, lmbda, test_gauss_means, test_y)\n",
    "print('Mean RMSE:', np.sqrt(mean_predict_t))\n",
    "print('Fourier (Gaussian) RMSE:', np.sqrt(t_gauss_mse))\n"
   ]
  },
  {
   "cell_type": "markdown",
   "metadata": {},
   "source": [
    "We see that the Fourier features (Gaussian Kernel on Bags) and Phase Features perfrom similarly in this case. Now we demonstrate that phase features are invariant up to Symmetric Positive Definite (SPD) noise, by artficially creating a scenario of covariate shift, where we add __only__ noise to the test set.  "
   ]
  },
  {
   "cell_type": "code",
   "execution_count": 8,
   "metadata": {
    "collapsed": false
   },
   "outputs": [],
   "source": [
    "noise_ratio_t = 1.0 # This is a super high noise to signal setting.\n",
    "test_x_noisy = np.zeros((160, 100, 16))\n",
    "latent_t = noise_ratio_t * variance * np.random.uniform(low = 0.0, high = 1.0, size = (160, 1, 16))\n",
    "for i in range(160):\n",
    "    for k in range(16):\n",
    "        test_x_noisy[i,:,k] = test_x[i,:,k] + np.sqrt(latent_t[i,:,k]) * np.random.normal(size = (100))"
   ]
  },
  {
   "cell_type": "markdown",
   "metadata": {},
   "source": [
    "Observe that the features are very different (for the first sample in first bag)."
   ]
  },
  {
   "cell_type": "code",
   "execution_count": 9,
   "metadata": {
    "collapsed": false
   },
   "outputs": [
    {
     "name": "stdout",
     "output_type": "stream",
     "text": [
      "Original: First sample in first bag\n",
      " [ 372.33903211  273.97752857  222.03223966  206.53149968  347.60454266\n",
      "  265.22960477  237.22911295  193.27649299  421.43038523  274.16365461\n",
      "  232.19638219  194.04713291   21.39239526   38.21109247  116.34367275\n",
      "  130.11828423]\n",
      "Noisy: First sample in first bag\n",
      " [ 360.92110067  306.48349261   88.3272009   243.34740126  449.54540514\n",
      "  231.61697426  253.41464995  233.29682893  394.25861008  260.39300882\n",
      "  296.05358639  225.80549346   24.2055456    22.41574521  127.6613082\n",
      "  122.33246268]\n"
     ]
    }
   ],
   "source": [
    "print('Original: First sample in first bag\\n',test_x[0][0])\n",
    "print('Noisy: First sample in first bag\\n', test_x_noisy[0][0])"
   ]
  },
  {
   "cell_type": "markdown",
   "metadata": {},
   "source": [
    "Obtain RMSE on the noisy test set using non-noisy training set."
   ]
  },
  {
   "cell_type": "code",
   "execution_count": 11,
   "metadata": {
    "collapsed": false,
    "scrolled": true
   },
   "outputs": [
    {
     "name": "stdout",
     "output_type": "stream",
     "text": [
      "Mean RMSE: 0.162785267464\n",
      "\n",
      "PHASE\n",
      "Phase RMSE: 0.0711980953622\n",
      "Noisy Phase RMSE: 0.0961964367606\n",
      "\n",
      "FOURIER\n",
      "Fourier (Gaussian) RMSE: 0.0716890964235\n",
      "Noisy Fourier (Gaussian) RMSE: 0.132692527392\n"
     ]
    }
   ],
   "source": [
    "test_noisy_gauss_means = gauss_kernel.rff_expand(test_x_noisy)\n",
    "test_noisy_phase_means = phase_kernel.rff_expand(test_x_noisy)\n",
    "\n",
    "ridge_kernel = LinearKernel()\n",
    "t_noisy_phase_predict = np.dot(obj_phase.T,ridge_kernel.kernel(train_phase_means,test_noisy_phase_means))\n",
    "t_noisy_gauss_predict = np.dot(obj_gauss.T,ridge_kernel.kernel(train_gauss_means,test_noisy_gauss_means))\n",
    "\n",
    "print('Mean RMSE:', np.sqrt(mean_predict_t))\n",
    "print('\\nPHASE')\n",
    "print('Phase RMSE:', np.sqrt(t_phase_mse))\n",
    "print('Noisy Phase RMSE:', np.sqrt((np.linalg.norm(t_noisy_phase_predict.T - test_y)**2)/len(test_y)))\n",
    "print('\\nFOURIER')\n",
    "print('Fourier (Gaussian) RMSE:', np.sqrt(t_gauss_mse))\n",
    "print('Noisy Fourier (Gaussian) RMSE:', np.sqrt((np.linalg.norm(t_noisy_gauss_predict.T - test_y)**2)/len(test_y)))\n"
   ]
  },
  {
   "cell_type": "markdown",
   "metadata": {},
   "source": [
    "We see that indeed the Phase features, which are invariant to SPD noise (Gaussian Noise in this case) performs much better."
   ]
  }
 ],
 "metadata": {
  "kernelspec": {
   "display_name": "Python 2",
   "language": "python",
   "name": "python2"
  },
  "language_info": {
   "codemirror_mode": {
    "name": "ipython",
    "version": 2
   },
   "file_extension": ".py",
   "mimetype": "text/x-python",
   "name": "python",
   "nbconvert_exporter": "python",
   "pygments_lexer": "ipython2",
   "version": "2.7.13"
  }
 },
 "nbformat": 4,
 "nbformat_minor": 0
}
