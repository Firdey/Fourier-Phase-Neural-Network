{
 "cells": [
  {
   "cell_type": "markdown",
   "metadata": {},
   "source": [
    "# Tutorial for toy classification problem using the Fourier neural network"
   ]
  },
  {
   "cell_type": "markdown",
   "metadata": {},
   "source": [
    "Here we show the the use of neural network to learn fourier features (like in a Random Fourier Features setup). Parameters are not tuned."
   ]
  },
  {
   "cell_type": "code",
   "execution_count": 1,
   "metadata": {
    "collapsed": true
   },
   "outputs": [],
   "source": [
    "from __future__ import print_function\n",
    "import numpy as np\n",
    "\n",
    "import aux_fct\n",
    "import fourier_nn"
   ]
  },
  {
   "cell_type": "markdown",
   "metadata": {},
   "source": [
    "First, we generate some simple toy dataset from two different random chi-square distribution."
   ]
  },
  {
   "cell_type": "code",
   "execution_count": 2,
   "metadata": {
    "collapsed": true
   },
   "outputs": [],
   "source": [
    "num_bags = 1000\n",
    "dim = 5\n",
    "df0=4\n",
    "df1=8\n",
    "df=np.random.choice([df0,df1],num_bags)\n",
    "labels_a=np.array(1*(df==df1))\n",
    "num1=np.count_nonzero(labels_a)\n",
    "X=np.zeros((num_bags,dim))\n",
    "X[df==df1,:] = np.random.chisquare(df=df1,size=(num1,dim))\n",
    "X[df==df0,:] = np.random.chisquare(df=df0,size=(num_bags-num1,dim))\n",
    "labels = np.zeros((num_bags, 2))\n",
    "labels[:,0] = np.array(1*(df==df0))\n",
    "labels[:,1] = np.array(1*(df==df1))"
   ]
  },
  {
   "cell_type": "markdown",
   "metadata": {},
   "source": [
    "Parameters:"
   ]
  },
  {
   "cell_type": "code",
   "execution_count": 3,
   "metadata": {
    "collapsed": true
   },
   "outputs": [],
   "source": [
    "# Tuning Parameters\n",
    "learning_rate = 0.3\n",
    "reg = 0.1\n",
    "n_freq = 60 # Number of frequencies to use\n",
    "batch_size = 10\n",
    "no_epochs = 40\n",
    "n_cpu = 1 # Number of CPUs available"
   ]
  },
  {
   "cell_type": "markdown",
   "metadata": {},
   "source": [
    "Construct Train and Test Set:"
   ]
  },
  {
   "cell_type": "code",
   "execution_count": 4,
   "metadata": {
    "collapsed": false
   },
   "outputs": [],
   "source": [
    "x_train = X[:750]\n",
    "y_train = labels[:750]\n",
    "x_test = X[750:]\n",
    "y_test = labels[750:]\n",
    "\n",
    "# Initialisation \n",
    "width_x = aux_fct.get_sigma_median_heuristic(x_train)\n",
    "init_sd = 1.0/width_x"
   ]
  },
  {
   "cell_type": "markdown",
   "metadata": {},
   "source": [
    "Neural Network with fourier features (note phase features only available with distributions)"
   ]
  },
  {
   "cell_type": "code",
   "execution_count": 5,
   "metadata": {
    "collapsed": false
   },
   "outputs": [
    {
     "name": "stdout",
     "output_type": "stream",
     "text": [
      "('Epoch:', '0010', 'cost=', '14.7871218')\n",
      "('Epoch:', '0020', 'cost=', '0.374727595')\n",
      "('Epoch:', '0030', 'cost=', '0.304655055')\n",
      "('Epoch:', '0040', 'cost=', '0.305292172')\n",
      "Accuracy Rate: 0.916\n"
     ]
    }
   ],
   "source": [
    "accuracy = fourier_nn.fourier_nn(x_train, y_train, x_test, y_test, n_freq, learning_rate, reg, batch_size, no_epochs, init_sd, n_cpu)\n",
    "print('Accuracy Rate:', accuracy)"
   ]
  }
 ],
 "metadata": {
  "kernelspec": {
   "display_name": "Python 2",
   "language": "python",
   "name": "python2"
  },
  "language_info": {
   "codemirror_mode": {
    "name": "ipython",
    "version": 2
   },
   "file_extension": ".py",
   "mimetype": "text/x-python",
   "name": "python",
   "nbconvert_exporter": "python",
   "pygments_lexer": "ipython2",
   "version": "2.7.13"
  }
 },
 "nbformat": 4,
 "nbformat_minor": 0
}
