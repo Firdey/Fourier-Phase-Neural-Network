{
 "cells": [
  {
   "cell_type": "markdown",
   "metadata": {},
   "source": [
    "# Learning Phase Features with neural networks"
   ]
  },
  {
   "cell_type": "markdown",
   "metadata": {},
   "source": [
    "In this tutorial, we will demonstrate the use of learnt phase features in distribution regression (for the aerosol dataset), in comparison with the learnt fourier features using a neural network approach, in a situation of covariate shift. Parameters previously chosen with cross-validation."
   ]
  },
  {
   "cell_type": "code",
   "execution_count": 1,
   "metadata": {
    "collapsed": true
   },
   "outputs": [],
   "source": [
    "from __future__ import print_function\n",
    "\n",
    "import numpy as np\n",
    "\n",
    "import aux_fct\n",
    "import phase_fourier_dr_nn"
   ]
  },
  {
   "cell_type": "markdown",
   "metadata": {},
   "source": [
    "Load data and split data into train and test set, as well as initiliase frequnecies at the right scales."
   ]
  },
  {
   "cell_type": "code",
   "execution_count": 2,
   "metadata": {
    "collapsed": false
   },
   "outputs": [],
   "source": [
    "path = '/Users/Leon1/Desktop/Fourier-Phase-Neural-Network' #Change path \n",
    "# Load Dataset into features and labels\n",
    "misr_data_x, misr_data_y = aux_fct.load_data(path, random = True)\n",
    "variance = np.var(np.concatenate(misr_data_x), axis = 0) # For calculating signal to noise ratio\n",
    "\n",
    "x_train = misr_data_x[:640]\n",
    "y_train = misr_data_y[:640]\n",
    "x_test = misr_data_x[640:]\n",
    "y_test = misr_data_y[640:]\n",
    "\n",
    "bandwidth = np.sqrt(aux_fct.median_sqdist(x_train) / 2) # Calculate bandwidth\n",
    "init_sd = 1.0/bandwidth\n",
    "baseline = np.mean(np.square(y_test - np.mean(y_train)))"
   ]
  },
  {
   "cell_type": "markdown",
   "metadata": {},
   "source": [
    "Network Parameters:"
   ]
  },
  {
   "cell_type": "code",
   "execution_count": 3,
   "metadata": {
    "collapsed": true
   },
   "outputs": [],
   "source": [
    "learning_rate = 0.3\n",
    "reg_1 = 10.0  # L2 Regularisation for frequencies layer \n",
    "reg_2 = 0.01 # L2 Regularisation for output layer\n",
    "n_freq = 60 # Number of frequencies to use\n",
    "batch_size = 20\n",
    "no_epochs = 100\n",
    "n_cpu = 1 # Number of CPUs available"
   ]
  },
  {
   "cell_type": "markdown",
   "metadata": {},
   "source": [
    "Run Fourier Neural Network."
   ]
  },
  {
   "cell_type": "code",
   "execution_count": 4,
   "metadata": {
    "collapsed": false
   },
   "outputs": [
    {
     "name": "stdout",
     "output_type": "stream",
     "text": [
      "('Epoch:', '0005', 'cost=', '554.739651')\n",
      "('Epoch:', '0010', 'cost=', '12.8426197')\n",
      "('Epoch:', '0015', 'cost=', '2.66595643')\n",
      "('Epoch:', '0020', 'cost=', '1.09130356')\n",
      "('Epoch:', '0025', 'cost=', '0.39939132')\n",
      "('Epoch:', '0030', 'cost=', '0.153120656')\n",
      "('Epoch:', '0035', 'cost=', '0.0912785875')\n",
      "('Epoch:', '0040', 'cost=', '0.0484081809')\n",
      "('Epoch:', '0045', 'cost=', '0.0256928517')\n",
      "('Epoch:', '0050', 'cost=', '0.0162742692')\n",
      "('Epoch:', '0055', 'cost=', '0.0193037217')\n",
      "('Epoch:', '0060', 'cost=', '0.0169599625')\n",
      "('Epoch:', '0065', 'cost=', '0.0132669617')\n",
      "('Epoch:', '0070', 'cost=', '0.0130852022')\n",
      "('Epoch:', '0075', 'cost=', '0.0124178923')\n",
      "('Epoch:', '0080', 'cost=', '0.0130633435')\n",
      "('Epoch:', '0085', 'cost=', '0.013719943')\n",
      "('Epoch:', '0090', 'cost=', '0.0142125989')\n",
      "('Epoch:', '0095', 'cost=', '0.015813382')\n",
      "('Epoch:', '0100', 'cost=', '0.0172238293')\n"
     ]
    }
   ],
   "source": [
    "fourier_accuracy = phase_fourier_dr_nn.phase_fourier_nn(x_train, y_train, x_test, y_test, n_freq, learning_rate, reg_1, reg_2, batch_size, no_epochs, 'Fourier', init_sd, n_cpu)"
   ]
  },
  {
   "cell_type": "markdown",
   "metadata": {},
   "source": [
    "Run Phase Neural Network."
   ]
  },
  {
   "cell_type": "code",
   "execution_count": 5,
   "metadata": {
    "collapsed": false
   },
   "outputs": [
    {
     "name": "stdout",
     "output_type": "stream",
     "text": [
      "('Epoch:', '0005', 'cost=', '1455.6421')\n",
      "('Epoch:', '0010', 'cost=', '128.537295')\n",
      "('Epoch:', '0015', 'cost=', '18.2254402')\n",
      "('Epoch:', '0020', 'cost=', '3.61193501')\n",
      "('Epoch:', '0025', 'cost=', '1.1174812')\n",
      "('Epoch:', '0030', 'cost=', '0.429399093')\n",
      "('Epoch:', '0035', 'cost=', '0.225146125')\n",
      "('Epoch:', '0040', 'cost=', '0.1329212')\n",
      "('Epoch:', '0045', 'cost=', '0.0996745143')\n",
      "('Epoch:', '0050', 'cost=', '0.0825198765')\n",
      "('Epoch:', '0055', 'cost=', '0.0755586256')\n",
      "('Epoch:', '0060', 'cost=', '0.0704775527')\n",
      "('Epoch:', '0065', 'cost=', '0.0694013226')\n",
      "('Epoch:', '0070', 'cost=', '0.0689869891')\n",
      "('Epoch:', '0075', 'cost=', '0.068671187')\n",
      "('Epoch:', '0080', 'cost=', '0.0667706945')\n",
      "('Epoch:', '0085', 'cost=', '0.0672347206')\n",
      "('Epoch:', '0090', 'cost=', '0.0681778083')\n",
      "('Epoch:', '0095', 'cost=', '0.0686174606')\n",
      "('Epoch:', '0100', 'cost=', '0.067340245')\n"
     ]
    }
   ],
   "source": [
    "phase_accuracy = phase_fourier_dr_nn.phase_fourier_nn(x_train, y_train, x_test, y_test, n_freq, learning_rate, reg_1, reg_2, batch_size, no_epochs, 'Phase', init_sd, n_cpu)"
   ]
  },
  {
   "cell_type": "markdown",
   "metadata": {},
   "source": [
    "Results, here the neural network approach performs slighlty worse than that of the ridge regression, likely due to the small dataset we have, and also training maybe difficult."
   ]
  },
  {
   "cell_type": "code",
   "execution_count": 6,
   "metadata": {
    "collapsed": false
   },
   "outputs": [
    {
     "name": "stdout",
     "output_type": "stream",
     "text": [
      "Mean RMSE 0.162785267464\n",
      "Fourier Features NN RMSE 0.0914625\n",
      "Phase Features NN RMSE 0.0872548\n"
     ]
    }
   ],
   "source": [
    "print('Mean RMSE', np.sqrt(baseline))\n",
    "print('Fourier Features NN RMSE', np.sqrt(fourier_accuracy))\n",
    "print('Phase Features NN RMSE', np.sqrt(phase_accuracy))"
   ]
  },
  {
   "cell_type": "markdown",
   "metadata": {},
   "source": [
    "Now we add noise to the test set __only__ in a scenario of covariate shift. "
   ]
  },
  {
   "cell_type": "code",
   "execution_count": null,
   "metadata": {
    "collapsed": false
   },
   "outputs": [],
   "source": [
    "noise_ratio_t = 1.0 # This is a super high noise to signal setting.\n",
    "test_x_noisy = np.zeros((160, 100, 16))\n",
    "latent_t = noise_ratio_t * variance * np.random.uniform(low = 0.0, high = 1.0, size = (160, 1, 16))\n",
    "for i in range(160):\n",
    "    for k in range(16):\n",
    "        test_x_noisy[i,:,k] = x_test[i,:,k] + np.sqrt(latent_t[i,:,k]) * np.random.normal(size = (100))"
   ]
  },
  {
   "cell_type": "code",
   "execution_count": null,
   "metadata": {
    "collapsed": false
   },
   "outputs": [
    {
     "name": "stdout",
     "output_type": "stream",
     "text": [
      "Fourier training\n",
      "('Epoch:', '0005', 'cost=', '104.804688')\n",
      "('Epoch:', '0010', 'cost=', '3.09828884')\n",
      "('Epoch:', '0015', 'cost=', '0.602490444')\n",
      "('Epoch:', '0020', 'cost=', '0.30521829')\n",
      "('Epoch:', '0025', 'cost=', '0.207218098')\n",
      "('Epoch:', '0030', 'cost=', '0.192395864')\n",
      "('Epoch:', '0035', 'cost=', '0.105905397')\n",
      "('Epoch:', '0040', 'cost=', '0.0464760157')\n",
      "('Epoch:', '0045', 'cost=', '0.0375325573')\n",
      "('Epoch:', '0050', 'cost=', '0.0278830222')\n",
      "('Epoch:', '0055', 'cost=', '0.0169325576')\n",
      "('Epoch:', '0060', 'cost=', '0.0150145526')\n",
      "('Epoch:', '0065', 'cost=', '0.0174051884')\n",
      "('Epoch:', '0070', 'cost=', '0.0177815692')\n",
      "('Epoch:', '0075', 'cost=', '0.0171603801')\n",
      "('Epoch:', '0080', 'cost=', '0.0209043248')\n",
      "('Epoch:', '0085', 'cost=', '0.0192830533')\n",
      "('Epoch:', '0090', 'cost=', '0.0207836285')\n",
      "('Epoch:', '0095', 'cost=', '0.0194874265')\n",
      "('Epoch:', '0100', 'cost=', '0.0178608833')\n",
      "Phase training\n",
      "('Epoch:', '0005', 'cost=', '1078.44071')\n",
      "('Epoch:', '0010', 'cost=', '95.3693738')\n",
      "('Epoch:', '0015', 'cost=', '14.6701178')\n",
      "('Epoch:', '0020', 'cost=', '3.26030081')\n",
      "('Epoch:', '0025', 'cost=', '1.12071764')\n",
      "('Epoch:', '0030', 'cost=', '0.435659528')\n",
      "('Epoch:', '0035', 'cost=', '0.226719029')\n",
      "('Epoch:', '0040', 'cost=', '0.142159921')\n",
      "('Epoch:', '0045', 'cost=', '0.107277416')\n"
     ]
    }
   ],
   "source": [
    "print('Fourier training')\n",
    "fourier_noise_accuracy = phase_fourier_dr_nn.phase_fourier_nn(x_train, y_train, test_x_noisy, y_test, n_freq, learning_rate, reg_1, reg_2, batch_size, no_epochs, 'Fourier', init_sd, n_cpu)\n",
    "print('Phase training')\n",
    "phase_noise_accuracy = phase_fourier_dr_nn.phase_fourier_nn(x_train, y_train, test_x_noisy, y_test, n_freq, learning_rate, reg_1, reg_2, batch_size, no_epochs, 'Phase', init_sd, n_cpu)"
   ]
  },
  {
   "cell_type": "code",
   "execution_count": null,
   "metadata": {
    "collapsed": false,
    "scrolled": true
   },
   "outputs": [],
   "source": [
    "\n",
    "print('Mean RMSE:', np.sqrt(baseline))\n",
    "print('Phase Features NN RMSE', np.sqrt(phase_accuracy))\n",
    "print('Phase Features NN Noisy RMSE', np.sqrt(phase_noise_accuracy))\n",
    "print('\\nFOURIER')\n",
    "print('Fourier Features NN RMSE', np.sqrt(fourier_accuracy))\n",
    "print('Fourier Features NN Noisy RMSE', np.sqrt(fourier_noise_accuracy))\n"
   ]
  },
  {
   "cell_type": "markdown",
   "metadata": {},
   "source": [
    "Note that the learnt frequncies in the Fourier Features seems also to be invariant to noise, this is because the frequencies learnt give rise to fourier features that have close to unit L2 norm, this is shown in https://arxiv.org/abs/1703.07596, this indicates that there might be potential SPD noise on the original aerosol dataset. Note also that in comparison to the ridge regression, it seems that learning frequencies is important in a scenairo of large covariate shift."
   ]
  }
 ],
 "metadata": {
  "kernelspec": {
   "display_name": "Python 2",
   "language": "python",
   "name": "python2"
  },
  "language_info": {
   "codemirror_mode": {
    "name": "ipython",
    "version": 2
   },
   "file_extension": ".py",
   "mimetype": "text/x-python",
   "name": "python",
   "nbconvert_exporter": "python",
   "pygments_lexer": "ipython2",
   "version": "2.7.13"
  }
 },
 "nbformat": 4,
 "nbformat_minor": 0
}
